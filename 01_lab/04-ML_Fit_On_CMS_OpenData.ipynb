{
  "nbformat": 4,
  "nbformat_minor": 0,
  "metadata": {
    "colab": {
      "name": "MLFit_OpenData.ipynb",
      "version": "0.3.2",
      "provenance": [],
      "collapsed_sections": [],
      "include_colab_link": true
    },
    "kernelspec": {
      "name": "python3",
      "display_name": "Python 3"
    }
  },
  "cells": [
    {
      "cell_type": "markdown",
      "metadata": {
        "id": "view-in-github",
        "colab_type": "text"
      },
      "source": [
        "<a href=\"https://colab.research.google.com/github/yandexdataschool/MLatMISiS2018/blob/master/01_lab/04-ML_Fit_On_CMS_OpenData.ipynb\" target=\"_parent\"><img src=\"https://colab.research.google.com/assets/colab-badge.svg\" alt=\"Open In Colab\"/></a>"
      ]
    },
    {
      "metadata": {
        "id": "QC9dYzX3Mpiw",
        "colab_type": "code",
        "colab": {}
      },
      "cell_type": "code",
      "source": [
        "!pip install probfit"
      ],
      "execution_count": 0,
      "outputs": []
    },
    {
      "metadata": {
        "id": "lYHp8ASpVCka",
        "colab_type": "code",
        "colab": {}
      },
      "cell_type": "code",
      "source": [
        "import numpy as np\n",
        "import pandas as pd\n",
        "import probfit\n",
        "import iminuit\n",
        "import matplotlib.pyplot as plt\n",
        "%matplotlib inline"
      ],
      "execution_count": 0,
      "outputs": []
    },
    {
      "metadata": {
        "id": "xT_jaAm8th8l",
        "colab_type": "text"
      },
      "cell_type": "markdown",
      "source": [
        "## Let's get some real data!\n",
        "\n",
        "We'll work with events with pairs of oppositely charged muons, and\n",
        "we'll try to select Z->mu mu decays and estimate the Z-boson mass.\n",
        "\n",
        "*For more details on the dataset see: http://opendata.cern.ch/record/545*"
      ]
    },
    {
      "metadata": {
        "id": "Ng3Dc4qtDlES",
        "colab_type": "code",
        "colab": {}
      },
      "cell_type": "code",
      "source": [
        "data = pd.read_csv('http://opendata.cern.ch/record/545/files/Dimuon_DoubleMu.csv')"
      ],
      "execution_count": 0,
      "outputs": []
    },
    {
      "metadata": {
        "id": "LumZbLsVVK-c",
        "colab_type": "code",
        "colab": {}
      },
      "cell_type": "code",
      "source": [
        "### TODO: Print out the number of events in the sample\n",
        "### and what variable (columns) we have\n",
        "\n",
        "<YOUR CODE HERE>"
      ],
      "execution_count": 0,
      "outputs": []
    },
    {
      "metadata": {
        "id": "WrhtroE7tcD_",
        "colab_type": "text"
      },
      "cell_type": "markdown",
      "source": [
        "So far we are only going to work with the **invariant mass** of the two muons.\n",
        "Let's plot it:"
      ]
    },
    {
      "metadata": {
        "id": "ZJ1E_CVH9vsq",
        "colab_type": "code",
        "colab": {}
      },
      "cell_type": "code",
      "source": [
        "### TODO: plot a histogram of dimuon invariant mass (column named 'M')\n",
        "### with 300 bins\n",
        "\n",
        "<YOUR CODE HERE>"
      ],
      "execution_count": 0,
      "outputs": []
    },
    {
      "metadata": {
        "id": "_iu3uqiK92Jb",
        "colab_type": "text"
      },
      "cell_type": "markdown",
      "source": [
        "Hmm, hard to see anything like that. Let's do a log-log plot:"
      ]
    },
    {
      "metadata": {
        "id": "N74saHIHVPmU",
        "colab_type": "code",
        "colab": {}
      },
      "cell_type": "code",
      "source": [
        "from matplotlib.ticker import FormatStrFormatter, LogLocator\n",
        "\n",
        "plt.figure(figsize=(18,8))\n",
        "plt.hist(data.M, bins=np.logspace(-0.5, 5.2, 301, base=np.e), density=True);\n",
        "plt.gca().set_xscale(\"log\")\n",
        "plt.gca().set_yscale(\"log\")\n",
        "plt.gca().get_xaxis().set_major_formatter(FormatStrFormatter('%.1f'))\n",
        "plt.gca().get_xaxis().set_major_locator(LogLocator(subs='all'))\n",
        "plt.xticks(rotation=-60);\n",
        "plt.xlabel('$M(\\mu^+\\mu^-)$, GeV')\n",
        "plt.ylabel('a.u.');"
      ],
      "execution_count": 0,
      "outputs": []
    },
    {
      "metadata": {
        "id": "kVpC-PN2t7Mw",
        "colab_type": "text"
      },
      "cell_type": "markdown",
      "source": [
        "That's better! Can you name all the peaks? :)\n",
        "\n",
        "OK, we know the rightmost peak is from Z boson. Let's zoom in to it:"
      ]
    },
    {
      "metadata": {
        "id": "a1IaaCbAVQ3M",
        "colab_type": "code",
        "colab": {}
      },
      "cell_type": "code",
      "source": [
        "mass_range = (60., 120.)\n",
        "\n",
        "### TODO: select data from mass_range[0] to mass_range[1]\n",
        "### Tip: if you have 2 numpy arrays 'a' and 'b' of booleans,\n",
        "### in order to make element-wize logic operations you should\n",
        "### use '&' for AND and '|' for OR:\n",
        "###   a & b # element-wize 'a' AND 'b'\n",
        "###   a | b # element-wize 'a' OR 'b'\n",
        "\n",
        "data = <YOUR CODE HERE>\n",
        "\n",
        "\n",
        "### TODO: plot a histogram of the 'M' variable for the selected data.\n",
        "### 100 bins should be enough\n",
        "### P.S. No need for log-log here, just simple histogram is ok\n",
        "\n",
        "<YOUR CODE HERE>"
      ],
      "execution_count": 0,
      "outputs": []
    },
    {
      "metadata": {
        "id": "dOSDtgvrFaAO",
        "colab_type": "text"
      },
      "cell_type": "markdown",
      "source": [
        "Now, we'll do the same ML fit as we did before, using the same model:"
      ]
    },
    {
      "metadata": {
        "id": "3RmYzfC-VTEL",
        "colab_type": "code",
        "colab": {}
      },
      "cell_type": "code",
      "source": [
        "def SignalPDF(x, mass, sigma):\n",
        "  return probfit.gaussian(x, mass, sigma)\n",
        "\n",
        "def BgPDF(x, bg_slope):\n",
        "  return bg_slope * np.exp(-bg_slope * x)\n",
        "\n",
        "SignalPDF_n = probfit.Normalized(SignalPDF, mass_range)\n",
        "BgPDF_n     = probfit.Normalized(BgPDF    , mass_range)\n",
        "\n",
        "ModelPDF = probfit.AddPdfNorm(SignalPDF_n, BgPDF_n, facname=['fsig'])"
      ],
      "execution_count": 0,
      "outputs": []
    },
    {
      "metadata": {
        "id": "dqa3crysVXv0",
        "colab_type": "code",
        "colab": {}
      },
      "cell_type": "code",
      "source": [
        "likelihood = probfit.UnbinnedLH(ModelPDF, data.M.values)"
      ],
      "execution_count": 0,
      "outputs": []
    },
    {
      "metadata": {
        "id": "zZ1ufPUpOLhE",
        "colab_type": "code",
        "outputId": "999650c8-4f9a-4b39-831e-132349bb44ea",
        "colab": {
          "base_uri": "https://localhost:8080/",
          "height": 34
        }
      },
      "cell_type": "code",
      "source": [
        "print(iminuit.describe(likelihood))"
      ],
      "execution_count": 0,
      "outputs": [
        {
          "output_type": "stream",
          "text": [
            "['mass', 'sigma', 'bg_slope', 'fsig']\n"
          ],
          "name": "stdout"
        }
      ]
    },
    {
      "metadata": {
        "id": "LPFFpcOdYJt9",
        "colab_type": "text"
      },
      "cell_type": "markdown",
      "source": [
        "Now it's your turn to specify the initial parameter values, their limits and steps:"
      ]
    },
    {
      "metadata": {
        "id": "ST0eFHBgOWY2",
        "colab_type": "code",
        "colab": {}
      },
      "cell_type": "code",
      "source": [
        "### TODO: fill the dictionaries with initial parameter values, their limits\n",
        "### and initial steps\n",
        "\n",
        "init_pars = dict(mass    =<YOUR NUMBER HERE>,\n",
        "                 sigma   =<YOUR NUMBER HERE>,\n",
        "                 bg_slope=<YOUR NUMBER HERE>,\n",
        "                 fsig    =<YOUR NUMBER HERE>)\n",
        "\n",
        "par_limits = dict(limit_mass    =<YOUR TUPLE WITH LIMITS HERE>,\n",
        "                  limit_sigma   =<YOUR TUPLE WITH LIMITS HERE>,\n",
        "                  limit_bg_slope=<YOUR TUPLE WITH LIMITS HERE>,\n",
        "                  limit_fsig    =<YOUR TUPLE WITH LIMITS HERE>)\n",
        "\n",
        "par_errors = dict(error_mass    =<YOUR NUMBER HERE>,\n",
        "                  error_sigma   =<YOUR NUMBER HERE>,\n",
        "                  error_bg_slope=<YOUR NUMBER HERE>,\n",
        "                  error_fsig    =<YOUR NUMBER HERE>,\n",
        "                 )\n",
        "\n",
        "minuit = iminuit.Minuit(likelihood, **init_pars, **par_limits, **par_errors)"
      ],
      "execution_count": 0,
      "outputs": []
    },
    {
      "metadata": {
        "id": "rJPVYjorOu8I",
        "colab_type": "code",
        "colab": {}
      },
      "cell_type": "code",
      "source": [
        "### TODO: Plot your initial guess:\n",
        "\n",
        "<YOUR CODE HERE>"
      ],
      "execution_count": 0,
      "outputs": []
    },
    {
      "metadata": {
        "id": "PGWpsIUnO2TQ",
        "colab_type": "code",
        "colab": {}
      },
      "cell_type": "code",
      "source": [
        "### TODO: Run the minimization algorithm (migrad)\n",
        "\n",
        "<YOUR CODE HERE>"
      ],
      "execution_count": 0,
      "outputs": []
    },
    {
      "metadata": {
        "id": "hl-r21vaO9Yp",
        "colab_type": "code",
        "colab": {}
      },
      "cell_type": "code",
      "source": [
        "### TODO: Plot the result:\n",
        "\n",
        "<YOUR CODE HERE>"
      ],
      "execution_count": 0,
      "outputs": []
    },
    {
      "metadata": {
        "id": "ZRtKPBX2Xewp",
        "colab_type": "text"
      },
      "cell_type": "markdown",
      "source": [
        "It's easy to see that this fit is not perfect: our model does not seem to describe the data very well.\n",
        "Any ideas how our model can be modified to improve this?\n",
        "\n",
        "Suggestions:\n",
        "  - Use sum of two gaussians with **same mean**. You can do this by creating two wrappers with same name for the 'mean' parameter, but different names for 'sigma':\n",
        "  ```python\n",
        "    def Signal_G1(x, mass, sigma1):\n",
        "      return probfit.gaussian(x, mass, sigma1)\n",
        "    def Signal_G2(x, mass, sigma2):\n",
        "      return probfit.gaussian(x, mass, sigma2)\n",
        "    signal = probfit.AddPdfNorm(Signal_G1, Signal_G2, facname=['G1_fraction'])\n",
        "    ####   In this example I'm skipping normalization; please don't forget to add it!\n",
        "  ```\n",
        "  - Use [CrystalBall function](https://en.wikipedia.org/wiki/Crystal_Ball_function). It's already implemented in `probfit` as `probfit.crystalball`\n",
        "  - Use a sum of gaussian and CrystalBall"
      ]
    },
    {
      "metadata": {
        "id": "law5mO6-E6Dl",
        "colab_type": "code",
        "colab": {}
      },
      "cell_type": "code",
      "source": [
        "### TODO: try to improve your model\n",
        "\n",
        "<YOUR CODE HERE>"
      ],
      "execution_count": 0,
      "outputs": []
    },
    {
      "metadata": {
        "id": "RxBNUxSYZ8nb",
        "colab_type": "text"
      },
      "cell_type": "markdown",
      "source": [
        "## Discussion"
      ]
    },
    {
      "metadata": {
        "id": "4goQgfm2E3zP",
        "colab_type": "text"
      },
      "cell_type": "markdown",
      "source": [
        "Using a model with CrystalBall+Gaussian signal PDF I was able to obtain the following value for the Z-boson mass:\n",
        "$$m_Z=90.85 \\pm 0.04\\text{ GeV.}$$\n",
        "Can we write a paper with this result?"
      ]
    },
    {
      "metadata": {
        "id": "zY_EXmWnQPUJ",
        "colab_type": "text"
      },
      "cell_type": "markdown",
      "source": [
        "Let's first compare it with other measurements. There is a collaboration named [Particle Data Group](https://en.wikipedia.org/wiki/Particle_Data_Group) (PDG); they have a lot of useful HEP material, and they calculate average values from various measurements of different particle parameters.\n",
        "\n",
        "Probably the easiest way to navigate through their averages is by using their [pdglive website](http://pdglive.lbl.gov/). Let's open it and go to the Z-boson page. Their mass value is:\n",
        "$$m_Z^{\\text{PDG}} = 91.1876 \\pm 0.0021\\text{ GeV}.$$\n",
        "Huh! Our value is 8-9 sigmas away!.."
      ]
    },
    {
      "metadata": {
        "id": "FlLhxdT5SZeM",
        "colab_type": "text"
      },
      "cell_type": "markdown",
      "source": [
        "### Likelihood error\n",
        "The error for $m_Z$ that we got was estimated from the likelihood function to be (in my case) 0.04 GeV. This is what's called a **statistical error**, it would be the only error in case the following two assumptions were true:\n",
        "  - the data we're looking at was produced with exact same probability density function as we used for our likelihood;\n",
        "  - each measurement in individual events has infinite precision and no bias.\n",
        "  \n",
        "Actually, both of these are false. Because of that there's also a **systematic error**.\n",
        "\n",
        "#### Model systematics\n",
        "Here is a CMS paper on the Z and W production cross section measurement: http://cdsweb.cern.ch/record/1337017\n",
        "\n",
        "There's the following plot in that paper:\n",
        "![CMS Z->mumu with simulated components](https://twiki.cern.ch/twiki/pub/CMSPublic/EWK-10-005/Zmumu_log.png)\n",
        "\n",
        "This is the invariant mass spectrum from the $\\mu^+\\mu^-$ events; components from different processes are highlighted.\n",
        "\n",
        "One can see that there are non-trivial background components that we did not take into account in our model.\n",
        "\n",
        "Taking this background into account would take some effort: you have to know how many background events there are (this depends on relative decay probabilities and on the probabilities to reconstruct them), and you have to know the shape of the distribution (one could run a simulation to obtain this shape).\n",
        "\n",
        "Also our signal model is quite simple. Analytical signal shape is too hard to derive, usually simulations are done to derive it as well.\n",
        "\n",
        "#### Detector systematics\n",
        "Invariant mass is calculated from the muon parameters. More precisely, it's calculated from muon momenta. There's an irreducible uncertainty up to which detector can measure the momentum - this can be estimated when the detector is calibrated."
      ]
    }
  ]
}